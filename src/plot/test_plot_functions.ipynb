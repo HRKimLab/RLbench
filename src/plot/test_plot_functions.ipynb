{
 "cells": [
  {
   "cell_type": "code",
   "execution_count": 16,
   "id": "850deb26-3f45-47f4-8376-3b53a5539a76",
   "metadata": {},
   "outputs": [
    {
     "data": {
      "text/plain": [
       "['CartPole-v1', 'ALE']"
      ]
     },
     "execution_count": 16,
     "metadata": {},
     "output_type": "execute_result"
    }
   ],
   "source": [
    "import os\n",
    "import numpy as np\n",
    "\n",
    "from datetime import date\n",
    "from re import L\n",
    "\n",
    "import pandas as pd\n",
    "import matplotlib.pyplot as plt\n",
    "import matplotlib as mpl\n",
    "import numpy as np\n",
    "\n",
    "from options import MAPPER_Y, get_args_envs\n",
    "\n",
    "date_today = date.today().isoformat()\n",
    "\n",
    "DATA_PATH = \"/home/neurlab-dl1/workspace/RLbench/data_backup_ALE_220510\"\n",
    "EVAL_PATH = \"/home/neurlab-dl1/workspace/RLbench/data_backup_ALE_220510/ALE/Breakout-v5/a1/a1s1/a1s1r1-0/evaluations.npz\"\n",
    "\n",
    "os.listdir(DATA_PATH)"
   ]
  },
  {
   "cell_type": "code",
   "execution_count": null,
   "id": "4265eb5f-1cae-407a-beae-5e4701a0b36f",
   "metadata": {},
   "outputs": [],
   "source": [
    "os.getcwd()"
   ]
  },
  {
   "cell_type": "code",
   "execution_count": 7,
   "id": "bb34661c-4ad8-4b7a-9549-adfef97394db",
   "metadata": {},
   "outputs": [],
   "source": [
    "eval_data = np.load(EVAL_PATH)"
   ]
  },
  {
   "cell_type": "code",
   "execution_count": 8,
   "id": "f7315aa8-d3af-4e2c-9150-a6182a37b738",
   "metadata": {},
   "outputs": [],
   "source": [
    "# timesteps, results, ep_lengths"
   ]
  },
  {
   "cell_type": "code",
   "execution_count": 9,
   "id": "c02da72c-d1e2-4f6d-8b15-d198a83577c9",
   "metadata": {},
   "outputs": [
    {
     "data": {
      "text/plain": [
       "array([ 100000,  200000,  300000,  400000,  500000,  600000,  700000,\n",
       "        800000,  900000, 1000000, 1100000, 1200000, 1300000, 1400000,\n",
       "       1500000, 1600000, 1700000, 1800000, 1900000, 2000000])"
      ]
     },
     "execution_count": 9,
     "metadata": {},
     "output_type": "execute_result"
    }
   ],
   "source": [
    "eval_data['timesteps']"
   ]
  },
  {
   "cell_type": "code",
   "execution_count": 10,
   "id": "31edf5e9-2411-4806-ae19-ef7a1d5d1387",
   "metadata": {},
   "outputs": [
    {
     "data": {
      "text/plain": [
       "array([[11.,  8.,  7., 10.,  7.],\n",
       "       [12., 19., 19., 15., 11.],\n",
       "       [13., 24., 14.,  4., 18.],\n",
       "       [11., 28., 25., 18., 21.],\n",
       "       [19., 22., 30., 18., 26.],\n",
       "       [16., 30., 16., 22., 27.],\n",
       "       [50., 26., 21., 66., 30.],\n",
       "       [26., 35., 37., 33., 21.],\n",
       "       [19., 26., 25., 20., 37.],\n",
       "       [12., 21., 32., 15., 12.],\n",
       "       [27., 61., 25., 32., 25.],\n",
       "       [30., 21., 28., 30., 37.],\n",
       "       [20., 29., 29., 41., 27.],\n",
       "       [33., 25., 29., 32., 37.],\n",
       "       [28., 22., 24., 35., 45.],\n",
       "       [43., 59., 29., 42., 12.],\n",
       "       [32., 13., 11., 34., 26.],\n",
       "       [24., 31., 32., 31., 37.],\n",
       "       [14., 60., 77., 19., 14.],\n",
       "       [30., 14., 37., 15., 14.]])"
      ]
     },
     "execution_count": 10,
     "metadata": {},
     "output_type": "execute_result"
    }
   ],
   "source": [
    "eval_data['results']"
   ]
  },
  {
   "cell_type": "code",
   "execution_count": 12,
   "id": "b56ef43b-d5c2-4f7f-80d2-ef65bb094794",
   "metadata": {},
   "outputs": [],
   "source": [
    "env_list = ['ALE/Breakout-v5']"
   ]
  },
  {
   "cell_type": "code",
   "execution_count": 17,
   "id": "a6aca121-15d2-44ab-a445-79799922ea79",
   "metadata": {},
   "outputs": [
    {
     "name": "stdout",
     "output_type": "stream",
     "text": [
      "Namespace(env='CrazyClimber-v5', agents=['a1s1r1', 'a1s1r2', 'a1s1r3'], x='timesteps', y='t', data_path='../../../../workspace/RLbench/data_backup_ALE_220503/ALE/')\n"
     ]
    }
   ],
   "source": [
    "import plot_numeric\n",
    "import options\n",
    "from options import str2list \n",
    "import argparse\n",
    "\n",
    "parser = argparse.ArgumentParser()\n",
    "\n",
    "parser.add_argument(\n",
    "    '--env', '-E', type=str,\n",
    "    default='CrazyClimber-v5', help=\"Environment name; Available: (LunarLanderContinuous-v2)\"\n",
    ")\n",
    "parser.add_argument(\n",
    "    '--agents', '-A', type=str2list,\n",
    "    default=\"[a1s1r1,a1s1r2,a1s1r3]\", help=\"Agents list to plot (specify the agent numbers)\"\n",
    ")\n",
    "parser.add_argument(\n",
    "    '--x', type=str,\n",
    "    default='timesteps', help=\"x-axis variable\"\n",
    ")\n",
    "parser.add_argument(\n",
    "    '--y', type=str,\n",
    "    default='t',\n",
    "    help=\"y-axis variable; Available: (rew, len, t, e_rew)\"\n",
    ")\n",
    "parser.add_argument(\n",
    "    '--data-path', '-S', type=str, default='../../../../workspace/RLbench/data_backup_ALE_220503/ALE/',\n",
    "    help=\"Path of data\"\n",
    ") #TODO: Suppose that all of data has been saved on 'data/' path (if data_path is None)\n",
    "\n",
    "#args = parser.parse_args()\n",
    "args = parser.parse_args(args=[])\n",
    "print(args)"
   ]
  },
  {
   "cell_type": "code",
   "execution_count": 18,
   "id": "b9b76f91-cf43-4a1f-9a38-c91bf22b5ddd",
   "metadata": {},
   "outputs": [
    {
     "data": {
      "image/png": "[encoded data removed]",
      "text/plain": [
       "<Figure size 432x288 with 1 Axes>"
      ]
     },
     "metadata": {
      "needs_background": "light"
     },
     "output_type": "display_data"
    }
   ],
   "source": [
    "plot_numeric.plot_numeric(args)"
   ]
  },
  {
   "cell_type": "code",
   "execution_count": null,
   "id": "fb9083f6-48f4-4cf0-a32b-7e1a3ca523fb",
   "metadata": {},
   "outputs": [],
   "source": []
  }
 ],
 "metadata": {
  "kernelspec": {
   "display_name": "Python 3 (ipykernel)",
   "language": "python",
   "name": "python3"
  },
  "language_info": {
   "codemirror_mode": {
    "name": "ipython",
    "version": 3
   },
   "file_extension": ".py",
   "mimetype": "text/x-python",
   "name": "python",
   "nbconvert_exporter": "python",
   "pygments_lexer": "ipython3",
   "version": "3.9.7"
  }
 },
 "nbformat": 4,
 "nbformat_minor": 5
}
